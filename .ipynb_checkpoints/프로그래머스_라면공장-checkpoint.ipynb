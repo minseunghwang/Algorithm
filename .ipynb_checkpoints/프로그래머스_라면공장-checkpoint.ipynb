{
 "cells": [
  {
   "cell_type": "code",
   "execution_count": 18,
   "metadata": {},
   "outputs": [
    {
     "name": "stdout",
     "output_type": "stream",
     "text": [
      "k: 25 stock: 20\n",
      "k: 19 stock: 19\n",
      "2\n"
     ]
    }
   ],
   "source": [
    "def solution(stock, dates, supplies, k):\n",
    "    answer = 0\n",
    "    k -=1\n",
    "    if stock >= k :\n",
    "        return answer\n",
    "    \n",
    "    date = [dates[0]]\n",
    "    for i in range(len(dates)-1):\n",
    "        date.append(dates[i+1]-dates[i])\n",
    "    \n",
    "    \n",
    "    for i,j in enumerate(date):\n",
    "        if stock >= k:\n",
    "            return answer\n",
    "        stock -= j\n",
    "        stock += supplies[i]\n",
    "        k -= j\n",
    "        answer += 1\n",
    "        print('k:',k, 'stock:',stock)\n",
    "\n",
    "    print(answer)\n",
    "            \n",
    "    \n",
    "\n",
    "    return answer\n",
    "\n",
    "stock = 4\n",
    "dates = [4,10,15]\n",
    "supplies = [20,5,10]\n",
    "k = 30\n",
    "\n",
    "print(solution(stock, dates, supplies, k))"
   ]
  },
  {
   "cell_type": "code",
   "execution_count": null,
   "metadata": {},
   "outputs": [],
   "source": [
    "def solution(stock, dates, supplies, k):\n",
    "    import heapq\n",
    "    answer = 0\n",
    "    idx = 0\n",
    "    h = []\n",
    "    while stock < k:\n",
    "        for i in range(idx, len(dates)):\n",
    "            if dates[i] <= stock:\n",
    "                heapq.heappush(h, (-supplies[i],supplies[i]))\n",
    "                idx = i+1\n",
    "            else:\n",
    "                break\n",
    "        stock += heapq.heappop(h)[1]\n",
    "        answer +=1\n",
    "    return answer"
   ]
  }
 ],
 "metadata": {
  "kernelspec": {
   "display_name": "Python [conda env:cpu_env] *",
   "language": "python",
   "name": "conda-env-cpu_env-py"
  },
  "language_info": {
   "codemirror_mode": {
    "name": "ipython",
    "version": 3
   },
   "file_extension": ".py",
   "mimetype": "text/x-python",
   "name": "python",
   "nbconvert_exporter": "python",
   "pygments_lexer": "ipython3",
   "version": "3.6.8"
  }
 },
 "nbformat": 4,
 "nbformat_minor": 2
}

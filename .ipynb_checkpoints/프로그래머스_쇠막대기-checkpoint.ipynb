{
 "cells": [
  {
   "cell_type": "code",
   "execution_count": 9,
   "metadata": {},
   "outputs": [
    {
     "name": "stdout",
     "output_type": "stream",
     "text": [
      "L(((LL)(L)L))(L)\n"
     ]
    },
    {
     "data": {
      "text/plain": [
       "0"
      ]
     },
     "execution_count": 9,
     "metadata": {},
     "output_type": "execute_result"
    }
   ],
   "source": [
    "def solution(a):\n",
    "    answer = 0\n",
    "    newa = a.replace('()', 'L')\n",
    "    r = 0\n",
    "    l = 0\n",
    "    laser = 0\n",
    "    print(newa)\n",
    "    \n",
    "    for i in newa:\n",
    "        if i == '(':\n",
    "            l += 1\n",
    "        elif i == ')':\n",
    "            r += 1\n",
    "        elif i == 'L':\n",
    "            laser += 1\n",
    "        \n",
    "        \n",
    "    return answer\n",
    "\n",
    "arrangement = \"()(((()())(())()))(())\"\n",
    "solution(arrangement)\n",
    "\n",
    "((((LLLL))))"
   ]
  }
 ],
 "metadata": {
  "kernelspec": {
   "display_name": "Python [conda env:cpu_env] *",
   "language": "python",
   "name": "conda-env-cpu_env-py"
  },
  "language_info": {
   "codemirror_mode": {
    "name": "ipython",
    "version": 3
   },
   "file_extension": ".py",
   "mimetype": "text/x-python",
   "name": "python",
   "nbconvert_exporter": "python",
   "pygments_lexer": "ipython3",
   "version": "3.6.8"
  }
 },
 "nbformat": 4,
 "nbformat_minor": 2
}

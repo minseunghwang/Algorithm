{
 "cells": [
  {
   "cell_type": "code",
   "execution_count": 22,
   "metadata": {},
   "outputs": [
    {
     "name": "stdout",
     "output_type": "stream",
     "text": [
      "6\n"
     ]
    }
   ],
   "source": [
    "def solution(s):\n",
    "    answer = 0\n",
    "    if 'aaa' in s:\n",
    "        return -1\n",
    "\n",
    "    for i,j in enumerate(s):\n",
    "        if j != 'a':\n",
    "            answer += 2\n",
    "            \n",
    "            \n",
    "    if s[-1] != 'a':\n",
    "        answer += 2\n",
    "            \n",
    "    \n",
    "    return answer\n",
    "\n",
    "s=\"baaaa\"\n",
    "# s=\"aa\"\n",
    "s=\"dog\"\n",
    "s=\"aabab\"\n",
    "print(solution(s))"
   ]
  }
 ],
 "metadata": {
  "kernelspec": {
   "display_name": "Python [conda env:cpu_env] *",
   "language": "python",
   "name": "conda-env-cpu_env-py"
  },
  "language_info": {
   "codemirror_mode": {
    "name": "ipython",
    "version": 3
   },
   "file_extension": ".py",
   "mimetype": "text/x-python",
   "name": "python",
   "nbconvert_exporter": "python",
   "pygments_lexer": "ipython3",
   "version": "3.6.8"
  }
 },
 "nbformat": 4,
 "nbformat_minor": 2
}

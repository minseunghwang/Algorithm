{
 "cells": [
  {
   "cell_type": "code",
   "execution_count": 35,
   "metadata": {},
   "outputs": [
    {
     "name": "stdout",
     "output_type": "stream",
     "text": [
      "['pop', 'classic']\n",
      "이거q: [(1, 600)]\n",
      "이거q: [(0, 400), (2, 150)]\n",
      "[1, 0, 2]\n"
     ]
    }
   ],
   "source": [
    "def solution(genres, plays):\n",
    "    answer = []\n",
    "    genre=list(set(genres))\n",
    "    \n",
    "    album = {}\n",
    "    for i in genre:\n",
    "        album[i] = 0\n",
    "    \n",
    "    for i,j in enumerate(genres):\n",
    "        album[j] += plays[i]\n",
    "    n_album = sorted(album, key=lambda x:album[x], reverse=True)\n",
    "\n",
    "    print(n_album)\n",
    "    \n",
    "    for i in n_album:\n",
    "        q = []\n",
    "        for j,k in enumerate(genres):\n",
    "            if i == k:\n",
    "                q.append((j,plays[j]))\n",
    "        print(\"이거q:\",q)\n",
    "        q.sort(key=lambda x:(x[1],-x[0]))\n",
    "        answer.append(q[-1][0])\n",
    "        if len(q) > 1:\n",
    "            answer.append(q[-2][0])\n",
    "    \n",
    "    \n",
    "    \n",
    "    return answer\n",
    "\n",
    "genres = ['classic', 'pop', 'classic']\n",
    "plays = [400, 600, 150]\n",
    "# genres = ['classic', 'pop', 'classic', 'pop','classic','classic']\n",
    "# plays = [400, 600, 150, 2500, 500, 500]\n",
    "print(solution(genres,plays))"
   ]
  }
 ],
 "metadata": {
  "kernelspec": {
   "display_name": "Python [conda env:cpu_env] *",
   "language": "python",
   "name": "conda-env-cpu_env-py"
  },
  "language_info": {
   "codemirror_mode": {
    "name": "ipython",
    "version": 3
   },
   "file_extension": ".py",
   "mimetype": "text/x-python",
   "name": "python",
   "nbconvert_exporter": "python",
   "pygments_lexer": "ipython3",
   "version": "3.6.8"
  }
 },
 "nbformat": 4,
 "nbformat_minor": 2
}

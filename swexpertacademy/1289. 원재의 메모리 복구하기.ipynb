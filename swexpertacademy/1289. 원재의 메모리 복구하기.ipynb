{
 "cells": [
  {
   "cell_type": "code",
   "execution_count": null,
   "metadata": {},
   "outputs": [],
   "source": [
    "import sys\n",
    "sys.stdin = open(\"input.txt\", \"r\")\n",
    "\n",
    "T = int(intput())\n",
    "for test_case in range(1, 3):\n",
    "    "
   ]
  },
  {
   "cell_type": "markdown",
   "metadata": {},
   "source": [
    "2\n",
    "0011\n",
    "100\n",
    "\n",
    "\n",
    "0001 // 1 // 1\n",
    "0010 // 2 // 2\n",
    "\n",
    "0011 // 1 // 3\n",
    "0100 // 2 // 4\n",
    "0101 // 3 // 5\n",
    "0110 // 2 // 6\n",
    "\n",
    "0111 // 1 // 7\n",
    "1000 // 2 // 8\n",
    "1001 // 3 // 9\n",
    "1010 // 4 // 10\n",
    "1011 // 3 // 11\n",
    "1100 // 2 // 12\n",
    "\n",
    "1 // 13\n",
    "2 // 14\n",
    "3 // 15\n",
    "4 // 16\n",
    "5 // 17\n",
    "4 // 18\n",
    "3 // 19\n",
    "2 // 20"
   ]
  },
  {
   "cell_type": "code",
   "execution_count": 9,
   "metadata": {},
   "outputs": [
    {
     "name": "stdout",
     "output_type": "stream",
     "text": [
      "1100\n",
      "1\n"
     ]
    }
   ],
   "source": [
    "t = input()\n",
    "num = 0\n",
    "for cnt,i in enumerate(t):\n",
    "    if i == \"0\" and cnt != 0 and t[cnt-1] == \"0\":\n",
    "        continue\n",
    "    if i == \"0\" and cnt != 0 and t[cnt-1] == \"1\":\n",
    "        num += 1\n",
    "        continue\n",
    "    if i == \"1\" and cnt != 0 and t[cnt-1] == \"0\":\n",
    "        num += 1\n",
    "    if i == \"1\" and cnt != 0 and t[cnt-1] == \"1\":\n",
    "        continue\n",
    "print(num)"
   ]
  },
  {
   "cell_type": "code",
   "execution_count": 13,
   "metadata": {},
   "outputs": [
    {
     "name": "stdout",
     "output_type": "stream",
     "text": [
      "1001\n",
      "3\n"
     ]
    }
   ],
   "source": [
    "# 정답\n",
    "T = int(input())\n",
    "# 여러개의 테스트 케이스가 주어지므로, 각각을 처리합니다.\n",
    "for test_case in range(1, T + 1):\n",
    "    p ='0'\n",
    "    t = input()\n",
    "    p += t\n",
    "    num = 0\n",
    "    for cnt,i in enumerate(t):\n",
    "        if p[cnt] != i:\n",
    "            num += 1\n",
    "    print(f'#{test_case} {num}')"
   ]
  }
 ],
 "metadata": {
  "kernelspec": {
   "display_name": "Python 3",
   "language": "python",
   "name": "python3"
  },
  "language_info": {
   "codemirror_mode": {
    "name": "ipython",
    "version": 3
   },
   "file_extension": ".py",
   "mimetype": "text/x-python",
   "name": "python",
   "nbconvert_exporter": "python",
   "pygments_lexer": "ipython3",
   "version": "3.6.8"
  }
 },
 "nbformat": 4,
 "nbformat_minor": 2
}

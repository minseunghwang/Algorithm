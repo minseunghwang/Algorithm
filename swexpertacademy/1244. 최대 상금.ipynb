{
 "cells": [
  {
   "cell_type": "markdown",
   "metadata": {},
   "source": [
    "10\n",
    "123 1\n",
    "2737 1\n",
    "757148 1\n",
    "78466 2\n",
    "32888 2\n",
    "777770 5\n",
    "436659 2\n",
    "431159 7\n",
    "112233 3\n",
    "456789 10"
   ]
  },
  {
   "cell_type": "code",
   "execution_count": 29,
   "metadata": {},
   "outputs": [
    {
     "ename": "TypeError",
     "evalue": "'str' object does not support item assignment",
     "output_type": "error",
     "traceback": [
      "\u001b[1;31m---------------------------------------------------------------------------\u001b[0m",
      "\u001b[1;31mTypeError\u001b[0m                                 Traceback (most recent call last)",
      "\u001b[1;32m<ipython-input-29-64d0bb5a529e>\u001b[0m in \u001b[0;36m<module>\u001b[1;34m\u001b[0m\n\u001b[0;32m     11\u001b[0m         \u001b[0mbp\u001b[0m \u001b[1;33m=\u001b[0m \u001b[0ml\u001b[0m\u001b[1;33m-\u001b[0m\u001b[0ma\u001b[0m\u001b[1;33m[\u001b[0m\u001b[1;33m-\u001b[0m\u001b[1;36m1\u001b[0m\u001b[1;33m:\u001b[0m\u001b[1;33m]\u001b[0m\u001b[1;33m.\u001b[0m\u001b[0mfind\u001b[0m\u001b[1;33m(\u001b[0m\u001b[0mb\u001b[0m\u001b[1;33m[\u001b[0m\u001b[0mnum\u001b[0m\u001b[1;33m]\u001b[0m\u001b[1;33m)\u001b[0m\u001b[1;33m-\u001b[0m\u001b[1;36m1\u001b[0m\u001b[1;33m\u001b[0m\u001b[1;33m\u001b[0m\u001b[0m\n\u001b[0;32m     12\u001b[0m         \u001b[0ma\u001b[0m\u001b[1;33m.\u001b[0m\u001b[0mreplace\u001b[0m\u001b[1;33m(\u001b[0m\u001b[0ma\u001b[0m\u001b[1;33m[\u001b[0m\u001b[0mnum\u001b[0m\u001b[1;33m]\u001b[0m\u001b[1;33m,\u001b[0m\u001b[0ma\u001b[0m\u001b[1;33m[\u001b[0m\u001b[0mbp\u001b[0m\u001b[1;33m]\u001b[0m\u001b[1;33m)\u001b[0m\u001b[1;33m\u001b[0m\u001b[1;33m\u001b[0m\u001b[0m\n\u001b[1;32m---> 13\u001b[1;33m         \u001b[0ma\u001b[0m\u001b[1;33m[\u001b[0m\u001b[0mnum\u001b[0m\u001b[1;33m]\u001b[0m \u001b[1;33m=\u001b[0m \u001b[0ma\u001b[0m\u001b[1;33m[\u001b[0m\u001b[0mbp\u001b[0m\u001b[1;33m]\u001b[0m\u001b[1;33m\u001b[0m\u001b[1;33m\u001b[0m\u001b[0m\n\u001b[0m\u001b[0;32m     14\u001b[0m         \u001b[0ma\u001b[0m\u001b[1;33m[\u001b[0m\u001b[0mbp\u001b[0m\u001b[1;33m]\u001b[0m \u001b[1;33m=\u001b[0m \u001b[0mtemp\u001b[0m\u001b[1;33m\u001b[0m\u001b[1;33m\u001b[0m\u001b[0m\n\u001b[0;32m     15\u001b[0m         \u001b[0mcnt\u001b[0m \u001b[1;33m-=\u001b[0m \u001b[1;36m1\u001b[0m\u001b[1;33m\u001b[0m\u001b[1;33m\u001b[0m\u001b[0m\n",
      "\u001b[1;31mTypeError\u001b[0m: 'str' object does not support item assignment"
     ]
    }
   ],
   "source": [
    "# a,cnt=input().split()\n",
    "a='123'\n",
    "cnt=1\n",
    "l=len(a)\n",
    "b=sorted(list(a),reverse=True)\n",
    "num=0\n",
    "while cnt:\n",
    "    temp = '0'\n",
    "    if a[num] < b[num]:\n",
    "        temp = a[num]\n",
    "        bp = l-a[-1:].find(b[num])-1\n",
    "        a.replace(a[num],a[bp])\n",
    "        a[num] = a[bp]\n",
    "        a[bp] = temp\n",
    "        cnt -= 1\n",
    "print(answer)"
   ]
  },
  {
   "cell_type": "code",
   "execution_count": 28,
   "metadata": {},
   "outputs": [
    {
     "name": "stdout",
     "output_type": "stream",
     "text": [
      "123 ['3', '2', '1']\n"
     ]
    },
    {
     "data": {
      "text/plain": [
       "'92345'"
      ]
     },
     "execution_count": 28,
     "metadata": {},
     "output_type": "execute_result"
    }
   ],
   "source": [
    "print(a,b)\n",
    "a[-1:].find(b[0])\n",
    "\n",
    "c ='12345'\n",
    "c=c.replace(c[0],'9')\n",
    "c"
   ]
  },
  {
   "cell_type": "code",
   "execution_count": 171,
   "metadata": {
    "scrolled": false
   },
   "outputs": [
    {
     "name": "stdout",
     "output_type": "stream",
     "text": [
      "32888 2\n",
      "절취선----\n",
      "이거잖아 [2, 8, 8, 8]\n",
      "답 [8, 2, 8, 8, 3]\n",
      "best [8, 8, 8, 3, 2]\n",
      "절취선----\n",
      "이거잖아 [8, 8, 3]\n",
      "답 [8, 8, 8, 2, 3]\n",
      "best [8, 8, 8, 3, 2]\n",
      "[8, 8, 8, 2, 3]\n"
     ]
    }
   ],
   "source": [
    "a,cnt=input().split()\n",
    "\n",
    "a=list(map(int,a))\n",
    "\n",
    "cnt = int(cnt)\n",
    "n = 0\n",
    "while cnt:\n",
    "    print('절취선----')\n",
    "    temp = 0\n",
    "    print('이거잖아',a[n+1:])\n",
    "    m=max(a[n+1:])\n",
    "    if a[n] < m:\n",
    "        i=len(a)-a[::-1].index(m)-1\n",
    "        temp = a[n]\n",
    "        a[n] = m\n",
    "        a[i]=temp\n",
    "        n += 1\n",
    "        cnt -= 1\n",
    "        print('답',a)\n",
    "        answer = a\n",
    "    aa=sorted(a,reverse=True)    \n",
    "    print('best',aa)\n",
    "    if a == aa:\n",
    "        while cnt:\n",
    "            temp = 0\n",
    "            temp = a[-1]\n",
    "            a[-1] = a[-2]\n",
    "            a[-1] = temp\n",
    "            cnt -=1\n",
    "        break\n",
    "    \n",
    "print(a)        "
   ]
  },
  {
   "cell_type": "code",
   "execution_count": 153,
   "metadata": {},
   "outputs": [
    {
     "name": "stdout",
     "output_type": "stream",
     "text": [
      "2\n"
     ]
    }
   ],
   "source": [
    "q=[1,2,3,4,5,6,7]\n",
    "print(q[::-1].index(5))"
   ]
  }
 ],
 "metadata": {
  "kernelspec": {
   "display_name": "Python 3",
   "language": "python",
   "name": "python3"
  },
  "language_info": {
   "codemirror_mode": {
    "name": "ipython",
    "version": 3
   },
   "file_extension": ".py",
   "mimetype": "text/x-python",
   "name": "python",
   "nbconvert_exporter": "python",
   "pygments_lexer": "ipython3",
   "version": "3.6.8"
  }
 },
 "nbformat": 4,
 "nbformat_minor": 2
}

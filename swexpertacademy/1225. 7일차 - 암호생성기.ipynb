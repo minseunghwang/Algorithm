{
 "cells": [
  {
   "cell_type": "code",
   "execution_count": 15,
   "metadata": {},
   "outputs": [
    {
     "name": "stdout",
     "output_type": "stream",
     "text": [
      "9550 9556 9550 9553 9558 9551 9551 9551\n",
      "62294130\n"
     ]
    }
   ],
   "source": [
    "for test_case in range(1, 10 + 1):\n",
    "    xxx = input()\n",
    "    a = list(map(int, input().split()))\n",
    "    minus=[1,2,3,4,5]\n",
    "    quit = 0\n",
    "    while True:\n",
    "        for i in range(1,6):\n",
    "            m=a.pop(0)-i\n",
    "            if m <= 0:\n",
    "                quit = 1\n",
    "                a.append(0)\n",
    "                break\n",
    "            a.append(m)\n",
    "        if quit == 1:\n",
    "            break\n",
    "    print(f'#{test_case} {\" \".join(map(str,a))}')\n"
   ]
  }
 ],
 "metadata": {
  "kernelspec": {
   "display_name": "Python 3",
   "language": "python",
   "name": "python3"
  },
  "language_info": {
   "codemirror_mode": {
    "name": "ipython",
    "version": 3
   },
   "file_extension": ".py",
   "mimetype": "text/x-python",
   "name": "python",
   "nbconvert_exporter": "python",
   "pygments_lexer": "ipython3",
   "version": "3.6.8"
  }
 },
 "nbformat": 4,
 "nbformat_minor": 2
}

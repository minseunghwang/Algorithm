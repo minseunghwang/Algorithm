{
 "cells": [
  {
   "cell_type": "code",
   "execution_count": 1,
   "metadata": {},
   "outputs": [],
   "source": [
    "import sys\n",
    "\n",
    "sys.stdin = open('data/1208.txt','r')\n",
    "line = []\n",
    "for i in sys.stdin:\n",
    "    line.append(i)"
   ]
  },
  {
   "cell_type": "code",
   "execution_count": 96,
   "metadata": {},
   "outputs": [
    {
     "name": "stdout",
     "output_type": "stream",
     "text": [
      "13\n",
      "time :  0.007101297378540039\n"
     ]
    }
   ],
   "source": [
    "import time\n",
    "\n",
    "start = time.time()\n",
    "cnt = int(line[0])\n",
    "a=list(map(int,line[1].split()))\n",
    "a.sort()\n",
    "while cnt:\n",
    "    for i in a[:a.count(min(a))]:\n",
    "        a.insert(0,a.pop(0)+1)\n",
    "        a[-1] -= 1\n",
    "        a.sort()\n",
    "        cnt -= 1\n",
    "        if cnt == 0:\n",
    "            break\n",
    "print(a[-1]-a[0])\n",
    "print(\"time : \", time.time() - start)"
   ]
  },
  {
   "cell_type": "code",
   "execution_count": 2,
   "metadata": {},
   "outputs": [
    {
     "name": "stdout",
     "output_type": "stream",
     "text": [
      "#1 13\n",
      "#2 13\n",
      "#3 13\n",
      "#4 13\n",
      "#5 13\n",
      "#6 13\n",
      "#7 13\n",
      "#8 13\n",
      "#9 13\n",
      "#10 13\n",
      "time :  0.06980013847351074\n"
     ]
    }
   ],
   "source": [
    "import time\n",
    "\n",
    "start = time.time()\n",
    "for test_case in range(1, 11):\n",
    "    cnt = int(line[0])\n",
    "    a=list(map(int,line[1].split()))\n",
    "    a.sort()\n",
    "    while cnt:\n",
    "        for i in a[:a.count(min(a))]:\n",
    "            a.insert(0,a.pop(0)+1)\n",
    "            a[-1] -= 1\n",
    "            a.sort()\n",
    "            cnt -= 1\n",
    "            if cnt == 0:\n",
    "                break\n",
    "    print(f'#{test_case} {a[-1]-a[0]}')\n",
    "print(\"time : \", time.time() - start)"
   ]
  },
  {
   "cell_type": "markdown",
   "metadata": {},
   "source": [
    "0.16895s"
   ]
  }
 ],
 "metadata": {
  "kernelspec": {
   "display_name": "Python 3",
   "language": "python",
   "name": "python3"
  },
  "language_info": {
   "codemirror_mode": {
    "name": "ipython",
    "version": 3
   },
   "file_extension": ".py",
   "mimetype": "text/x-python",
   "name": "python",
   "nbconvert_exporter": "python",
   "pygments_lexer": "ipython3",
   "version": "3.6.8"
  }
 },
 "nbformat": 4,
 "nbformat_minor": 2
}

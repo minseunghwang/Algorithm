{
 "cells": [
  {
   "cell_type": "code",
   "execution_count": 3,
   "metadata": {},
   "outputs": [
    {
     "name": "stdout",
     "output_type": "stream",
     "text": [
      "3\n",
      "123\n",
      "456\n",
      "789\n",
      "#5 25\n"
     ]
    }
   ],
   "source": [
    "# T = int(input())\n",
    "# 여러개의 테스트 케이스가 주어지므로, 각각을 처리합니다.\n",
    "# for test_case in range(1, T + 1):\n",
    "test_case = 5\n",
    "n = int(input())\n",
    "a=[]\n",
    "answer=0\n",
    "for _ in range(n):\n",
    "    a.append(list(input()))\n",
    "cnt = 0\n",
    "for i in range(n//2+1):\n",
    "    answer += sum(map(int,(a[cnt][n//2-i : n//2+i+1])))\n",
    "    answer += sum(map(int,(a[n-cnt-1][n//2-i : n//2+i+1])))\n",
    "    cnt += 1\n",
    "answer -= sum(map(int,a[n//2][:]))\n",
    "print(f'#{test_case} {answer}')"
   ]
  }
 ],
 "metadata": {
  "kernelspec": {
   "display_name": "Python 3",
   "language": "python",
   "name": "python3"
  },
  "language_info": {
   "codemirror_mode": {
    "name": "ipython",
    "version": 3
   },
   "file_extension": ".py",
   "mimetype": "text/x-python",
   "name": "python",
   "nbconvert_exporter": "python",
   "pygments_lexer": "ipython3",
   "version": "3.6.8"
  }
 },
 "nbformat": 4,
 "nbformat_minor": 2
}

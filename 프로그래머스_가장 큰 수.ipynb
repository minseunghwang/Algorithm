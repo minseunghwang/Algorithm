{
 "cells": [
  {
   "cell_type": "code",
   "execution_count": 50,
   "metadata": {},
   "outputs": [
    {
     "name": "stdout",
     "output_type": "stream",
     "text": [
      "['9', '5', '34', '30', '3']\n",
      "0 9\n",
      "1 5\n",
      "2 34\n",
      "3 30\n",
      "4 3\n",
      "9534303\n",
      "['35', '34', '32', '31', '3']\n",
      "0 35\n",
      "1 34\n",
      "2 32\n",
      "3 31\n",
      "4 3\n",
      "353432313\n"
     ]
    }
   ],
   "source": [
    "def largestnumber(ns):\n",
    "    answer = ''\n",
    "    ns = list(map(str,ns))\n",
    "    ns.sort(reverse=True)\n",
    "    print(ns)\n",
    "    for i,j in enumerate(ns):\n",
    "        if ns[i] != j:\n",
    "            \n",
    "        \n",
    "        \n",
    "    return ''.join(ns)\n",
    "\n",
    "\n",
    "print(largestnumber([3,30,34,5,9]))\n",
    "# print(largestnumber([40,403]))\n",
    "print(largestnumber([3, 31, 32, 34,35]))\n",
    "\n",
    "\n"
   ]
  },
  {
   "cell_type": "code",
   "execution_count": 60,
   "metadata": {},
   "outputs": [
    {
     "name": "stdout",
     "output_type": "stream",
     "text": [
      "['9', '5', '34', '30', '3']\n",
      "이거 343434 , 303030 , 333\n",
      "['9', '5', '34', '3', '30']\n",
      "9534330\n",
      "['35', '34', '32', '31', '3']\n",
      "이거 323232 , 313131 , 333\n",
      "['35', '34', '3', '32', '31']\n",
      "353433231\n"
     ]
    }
   ],
   "source": [
    "def solution(numbers):\n",
    "    numbers = list(map(str, numbers))\n",
    "    numbers.sort(reverse=True)\n",
    "    print(numbers)\n",
    "    print(\"이거\",numbers[2]*3,',',numbers[3]*3,',',numbers[4]*3)\n",
    "    numbers.sort(key=lambda x:x*3, reverse=True)\n",
    "    print(numbers)\n",
    "    return str(int(''.join(numbers)))\n",
    "\n",
    "print(solution([3,30,34,5,9]))\n",
    "# print(solution([40,403]))\n",
    "print(solution([3, 31, 32, 34,35]))"
   ]
  }
 ],
 "metadata": {
  "kernelspec": {
   "display_name": "Python [conda env:cpu_env] *",
   "language": "python",
   "name": "conda-env-cpu_env-py"
  },
  "language_info": {
   "codemirror_mode": {
    "name": "ipython",
    "version": 3
   },
   "file_extension": ".py",
   "mimetype": "text/x-python",
   "name": "python",
   "nbconvert_exporter": "python",
   "pygments_lexer": "ipython3",
   "version": "3.6.8"
  }
 },
 "nbformat": 4,
 "nbformat_minor": 2
}

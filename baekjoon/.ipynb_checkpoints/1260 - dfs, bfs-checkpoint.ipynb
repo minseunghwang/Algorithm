{
 "cells": [
  {
   "cell_type": "code",
   "execution_count": 40,
   "metadata": {},
   "outputs": [
    {
     "name": "stdout",
     "output_type": "stream",
     "text": [
      "5 5 3\n"
     ]
    }
   ],
   "source": []
  },
  {
   "cell_type": "code",
   "execution_count": 142,
   "metadata": {},
   "outputs": [
    {
     "name": "stdout",
     "output_type": "stream",
     "text": [
      "1000 1 1000\n",
      "999 1000\n"
     ]
    }
   ],
   "source": [
    "n,m,v = map(int,input().split())\n",
    "matrix = [[0]* (n+1) for _ in range((n+1))]\n",
    "for i in range(m):\n",
    "    a,b=map(int,input().split())\n",
    "    matrix[a][b] = 1\n",
    "    matrix[b][a] = 1\n"
   ]
  },
  {
   "cell_type": "code",
   "execution_count": 164,
   "metadata": {},
   "outputs": [
    {
     "name": "stdout",
     "output_type": "stream",
     "text": [
      "[3]\n",
      "[1]\n",
      "[2]\n",
      "[5]\n",
      "[4]\n",
      "3 1 2 5 4\n"
     ]
    }
   ],
   "source": [
    "from collections import deque\n",
    "\n",
    "root = []\n",
    "visit = [0] * n\n",
    "\n",
    "def dfs(x):\n",
    "    root.append(x)\n",
    "    visit[x-1] = 1\n",
    "    for i in range(len(matrix[x])):\n",
    "        if matrix[x][i] == 1 and visit[i-1] != 1:\n",
    "            dfs(i)\n",
    "    \n",
    "    return root\n",
    "\n",
    "def bfs(x):\n",
    "    root2 = []\n",
    "    visit2 = [0] * n\n",
    "    q=[x]\n",
    "    while q:\n",
    "        print(q)\n",
    "        p=q.pop(0)\n",
    "        visit2[p-1] = 1\n",
    "        root2.append(p)\n",
    "        cnt = 0\n",
    "        for i in matrix[p]:\n",
    "            if i == 1 and visit2[cnt-1] != 1 and i not in q:\n",
    "                q.append(cnt)\n",
    "            cnt += 1\n",
    "    return root2\n",
    "\n",
    "# print(*dfs(v))    \n",
    "print(*bfs(v))"
   ]
  },
  {
   "cell_type": "code",
   "execution_count": 132,
   "metadata": {},
   "outputs": [
    {
     "name": "stdout",
     "output_type": "stream",
     "text": [
      "1\n",
      "[0, 1, 0, 0, 1]\n"
     ]
    }
   ],
   "source": [
    "if 1 in matrix[3]:\n",
    "    print(matrix[3].index(1))\n",
    "print(matrix[3])"
   ]
  }
 ],
 "metadata": {
  "kernelspec": {
   "display_name": "Python 3",
   "language": "python",
   "name": "python3"
  },
  "language_info": {
   "codemirror_mode": {
    "name": "ipython",
    "version": 3
   },
   "file_extension": ".py",
   "mimetype": "text/x-python",
   "name": "python",
   "nbconvert_exporter": "python",
   "pygments_lexer": "ipython3",
   "version": "3.6.8"
  }
 },
 "nbformat": 4,
 "nbformat_minor": 2
}

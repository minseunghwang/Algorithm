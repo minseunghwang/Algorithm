{
 "cells": [
  {
   "cell_type": "code",
   "execution_count": null,
   "metadata": {},
   "outputs": [],
   "source": [
    "# input\n",
    "\n",
    "2\n",
    "8\n",
    "3 2 7 8 1 4 5 6\n",
    "10\n",
    "2 1 3 4 5 6 7 9 10 8"
   ]
  },
  {
   "cell_type": "code",
   "execution_count": 10,
   "metadata": {},
   "outputs": [
    {
     "name": "stdout",
     "output_type": "stream",
     "text": [
      "1\n",
      "3 2 7 8 1 4 5 6\n",
      "[7]\n",
      "[5]\n",
      "[1]\n",
      "[6]\n",
      "[4]\n",
      "8\n"
     ]
    }
   ],
   "source": [
    "trash = input()\n",
    "a=list(map(int,input().split()))\n",
    "visit=[0 for _ in range(len(a))]\n",
    "cnt = 0\n",
    "for i in a:\n",
    "    q=[i]  \n",
    "    visit[a.index(i)]=1\n",
    "    while q:\n",
    "        p=q.pop(0)\n",
    "        if visit[p-1] == 0:\n",
    "            visit[p-1] = 1\n",
    "            q.append(a[p-1])\n",
    "            print(q)\n",
    "        else:\n",
    "            cnt += 1\n",
    "    print('수웩')\n",
    "print(cnt)\n"
   ]
  },
  {
   "cell_type": "code",
   "execution_count": null,
   "metadata": {},
   "outputs": [],
   "source": [
    "q = 3 // \n",
    "[0,0,1,0,1,0,1,0]\n",
    "\n",
    "\n",
    "1 2 3 4 5 6 7 8\n",
    "3 2 7 8 1 4 5 6 \n",
    "\n",
    "3 - 7 - 5 - 1\n"
   ]
  }
 ],
 "metadata": {
  "kernelspec": {
   "display_name": "Python 3",
   "language": "python",
   "name": "python3"
  },
  "language_info": {
   "codemirror_mode": {
    "name": "ipython",
    "version": 3
   },
   "file_extension": ".py",
   "mimetype": "text/x-python",
   "name": "python",
   "nbconvert_exporter": "python",
   "pygments_lexer": "ipython3",
   "version": "3.6.8"
  }
 },
 "nbformat": 4,
 "nbformat_minor": 2
}

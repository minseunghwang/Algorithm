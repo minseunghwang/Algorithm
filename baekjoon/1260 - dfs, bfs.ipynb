{
 "cells": [
  {
   "cell_type": "code",
   "execution_count": 167,
   "metadata": {},
   "outputs": [
    {
     "name": "stdout",
     "output_type": "stream",
     "text": [
      "5 5 3\n",
      "5 4\n",
      "5 2\n",
      "1 2\n",
      "3 4\n",
      "3 1\n"
     ]
    }
   ],
   "source": [
    "n,m,v = map(int,input().split())\n",
    "matrix = [[0]* (n+1) for _ in range((n+1))]\n",
    "for i in range(m):\n",
    "    a,b=map(int,input().split())\n",
    "    matrix[a][b] = 1\n",
    "    matrix[b][a] = 1"
   ]
  },
  {
   "cell_type": "code",
   "execution_count": 176,
   "metadata": {},
   "outputs": [
    {
     "name": "stdout",
     "output_type": "stream",
     "text": [
      "1\n",
      "4\n",
      "[1, 4]\n",
      "2\n",
      "[4, 2]\n",
      "5\n",
      "[2, 5]\n",
      "[5]\n",
      "[]\n",
      "3 1 4 2 5\n"
     ]
    }
   ],
   "source": [
    "from collections import deque\n",
    "\n",
    "n,m,v = map(int,input().split())\n",
    "matrix = [[0]* (n+1) for _ in range((n+1))]\n",
    "for i in range(m):\n",
    "    a,b=map(int,input().split())\n",
    "    matrix[a][b] = 1\n",
    "    matrix[b][a] = 1\n",
    "\n",
    "root = []\n",
    "visit = [0] * n\n",
    "\n",
    "def dfs(x):\n",
    "    root.append(x)\n",
    "    visit[x-1] = 1\n",
    "    for i in range(len(matrix[x])):\n",
    "        if matrix[x][i] == 1 and visit[i-1] != 1:\n",
    "            dfs(i)\n",
    "    \n",
    "    return root\n",
    "\n",
    "def bfs(x):\n",
    "    root2 = []\n",
    "    visit2 = [0] * n\n",
    "    q=[x]\n",
    "    while q:\n",
    "        p=q.pop(0)\n",
    "        visit2[p-1] = 1\n",
    "        root2.append(p)\n",
    "        cnt = 0\n",
    "        for i in matrix[p]:\n",
    "            if i == 1 and visit2[cnt-1] != 1 and cnt not in q:\n",
    "                q.append(cnt)\n",
    "            cnt += 1\n",
    "    return root2\n",
    "\n",
    "print(*dfs(v))    \n",
    "print(*bfs(v))"
   ]
  },
  {
   "cell_type": "code",
   "execution_count": 192,
   "metadata": {},
   "outputs": [
    {
     "name": "stdout",
     "output_type": "stream",
     "text": [
      "[[5, 4], [5, 2], [1, 2], [3, 4], [3, 1]]\n",
      "[[5, 4], [5, 2], [2, 1], [4, 3], [3, 1]]\n"
     ]
    }
   ],
   "source": [
    "edge = [[5,4],[5,2],[1,2],[3,4],[3,1]]\n",
    "print(edge)\n",
    "for e in edge:\n",
    "    e.sort(reverse=True)\n",
    "print(edge)"
   ]
  },
  {
   "cell_type": "code",
   "execution_count": null,
   "metadata": {},
   "outputs": [],
   "source": []
  }
 ],
 "metadata": {
  "kernelspec": {
   "display_name": "Python 3",
   "language": "python",
   "name": "python3"
  },
  "language_info": {
   "codemirror_mode": {
    "name": "ipython",
    "version": 3
   },
   "file_extension": ".py",
   "mimetype": "text/x-python",
   "name": "python",
   "nbconvert_exporter": "python",
   "pygments_lexer": "ipython3",
   "version": "3.6.8"
  }
 },
 "nbformat": 4,
 "nbformat_minor": 2
}

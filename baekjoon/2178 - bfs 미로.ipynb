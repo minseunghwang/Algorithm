{
 "cells": [
  {
   "cell_type": "code",
   "execution_count": null,
   "metadata": {},
   "outputs": [],
   "source": [
    "4 6\n",
    "101111\n",
    "101010\n",
    "101011\n",
    "111011"
   ]
  },
  {
   "cell_type": "code",
   "execution_count": 10,
   "metadata": {},
   "outputs": [
    {
     "name": "stdout",
     "output_type": "stream",
     "text": [
      "4 6\n",
      "101111\n",
      "101010\n",
      "101011\n",
      "111011\n",
      "[[1, 0, 1, 1, 1, 1], [1, 0, 1, 0, 1, 0], [1, 0, 1, 0, 1, 1], [1, 1, 1, 0, 1, 1]]\n"
     ]
    }
   ],
   "source": [
    "n,m = map(int,input().split())\n",
    "miro = []\n",
    "for i in range(n):\n",
    "    miro.append(list(map(int,input())))"
   ]
  },
  {
   "cell_type": "code",
   "execution_count": 35,
   "metadata": {},
   "outputs": [],
   "source": [
    "miro = [[1, 0, 1, 1, 1, 1], [1, 0, 1, 0, 1, 0], [1, 0, 1, 0, 1, 1], [1, 1, 1, 0, 1, 1]]"
   ]
  },
  {
   "cell_type": "code",
   "execution_count": 40,
   "metadata": {},
   "outputs": [
    {
     "name": "stdout",
     "output_type": "stream",
     "text": [
      "deque([[0, 0]])\n",
      "deque([[1, 0]])\n",
      "deque([[2, 0]])\n",
      "deque([[3, 0]])\n",
      "deque([[3, 1]])\n",
      "deque([[3, 2]])\n",
      "deque([[2, 2]])\n",
      "deque([[1, 2]])\n",
      "deque([[0, 2]])\n",
      "deque([[0, 3]])\n",
      "deque([[0, 4]])\n",
      "deque([[0, 5], [1, 4]])\n",
      "deque([[1, 4]])\n",
      "deque([[2, 4]])\n",
      "deque([[2, 5], [3, 4]])\n",
      "15\n"
     ]
    }
   ],
   "source": [
    "from collections import deque\n",
    "\n",
    "n,m = map(int,input().split())\n",
    "miro = []\n",
    "for i in range(n):\n",
    "    miro.append(list(map(int,input())))\n",
    "\n",
    "visit = [[0]*m for _ in range(n)]\n",
    "\n",
    "dx = [0,0,-1,1]\n",
    "dy = [-1,1,0,0]\n",
    "\n",
    "def bfs(a):\n",
    "    x,y = a[0],a[1]\n",
    "    visit[x][y] = 1\n",
    "    \n",
    "    q=deque()\n",
    "    q.append([x,y])\n",
    "    \n",
    "    while q:\n",
    "        p=q.popleft()\n",
    "        for i in range(4):\n",
    "            nx = p[0]+dx[i]\n",
    "            ny = p[1]+dy[i]\n",
    "            if 0 <= nx < n and 0 <= ny < m and visit[nx][ny] == 0 and miro[nx][ny] != 0:\n",
    "                miro[nx][ny] = miro[p[0]][p[1]]+1\n",
    "                visit[nx][ny] = 1\n",
    "                q.append([nx,ny])\n",
    "                if visit[n-1][m-1] != 0:\n",
    "                    return miro[n-1][m-1]\n",
    "            \n",
    "a=[0,0]             \n",
    "print(bfs(a))"
   ]
  },
  {
   "cell_type": "code",
   "execution_count": 37,
   "metadata": {},
   "outputs": [
    {
     "data": {
      "text/plain": [
       "[[1, 0, 9, 10, 11, 12],\n",
       " [2, 0, 8, 0, 12, 0],\n",
       " [3, 0, 7, 0, 13, 14],\n",
       " [4, 5, 6, 0, 14, 15]]"
      ]
     },
     "execution_count": 37,
     "metadata": {},
     "output_type": "execute_result"
    }
   ],
   "source": [
    "miro"
   ]
  }
 ],
 "metadata": {
  "kernelspec": {
   "display_name": "Python 3",
   "language": "python",
   "name": "python3"
  },
  "language_info": {
   "codemirror_mode": {
    "name": "ipython",
    "version": 3
   },
   "file_extension": ".py",
   "mimetype": "text/x-python",
   "name": "python",
   "nbconvert_exporter": "python",
   "pygments_lexer": "ipython3",
   "version": "3.6.8"
  }
 },
 "nbformat": 4,
 "nbformat_minor": 2
}

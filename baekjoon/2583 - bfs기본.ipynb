{
 "cells": [
  {
   "cell_type": "code",
   "execution_count": null,
   "metadata": {},
   "outputs": [],
   "source": [
    "5 7 3\n",
    "0 2 4 4\n",
    "1 1 2 5\n",
    "4 0 6 2"
   ]
  },
  {
   "cell_type": "code",
   "execution_count": 96,
   "metadata": {},
   "outputs": [
    {
     "name": "stdout",
     "output_type": "stream",
     "text": [
      "5 7 3\n",
      "0 2 4 4\n",
      "1 1 2 5\n",
      "4 0 6 2\n",
      "3\n",
      "1 7 13 "
     ]
    }
   ],
   "source": [
    "from collections import deque\n",
    "import sys\n",
    "sys.setrecursionlimit(6000)\n",
    "\n",
    "m,n,k = list(map(int,input().split()))\n",
    "\n",
    "x = [0,0,-1,1]\n",
    "y = [-1,1,0,0]\n",
    "\n",
    "def bfs(a,b):\n",
    "    q = deque()\n",
    "    q.append([a,b])\n",
    "    visit[a][b] = -1\n",
    "    cnt = 1\n",
    "    \n",
    "    while q:\n",
    "        p = q.popleft()\n",
    "        for i in range(4):\n",
    "            mr = p[0]+x[i]\n",
    "            ml = p[1]+y[i]\n",
    "            if 0 <= mr < m and 0 <= ml < n :\n",
    "                if visit[mr][ml] == 0:\n",
    "                    cnt += 1\n",
    "                    visit[mr][ml] = -1\n",
    "                    q.append([mr,ml])\n",
    "    return cnt\n",
    "    \n",
    "\n",
    "visit = [[0]*n for _ in range(m)]\n",
    "for _ in range(k):\n",
    "    x1,y1,x2,y2 = list(map(int,input().split()))\n",
    "    for i in range(y1,y2):\n",
    "        for j in range(x1,x2):\n",
    "            visit[i][j]=1\n",
    "area = []\n",
    "cnt = 0\n",
    "for i in range(m):\n",
    "    for j in range(n):\n",
    "        if visit[i][j] == 0:\n",
    "            cnt += 1\n",
    "            area.append(bfs(i,j))\n",
    "area.sort()\n",
    "print(cnt)\n",
    "for i in area:\n",
    "    print(i, end = \" \")"
   ]
  },
  {
   "cell_type": "code",
   "execution_count": 33,
   "metadata": {},
   "outputs": [
    {
     "name": "stdout",
     "output_type": "stream",
     "text": [
      "[[1, 2, 3, 4, 5, 6, 7], [8, 9, 10, 11, 12, 13, 14], [15, 16, 17, 18, 19, 20, 21], [22, 23, 24, 25, 26, 27, 28], [29, 30, 31, 32, 33, 34, 35]]\n",
      "----------\n",
      "[[15, 16, 17, 18, 19, 20, 21], [22, 23, 24, 25, 26, 27, 28]]\n",
      "[15, 16, 17, 18]\n",
      "[22, 23, 24, 25]\n"
     ]
    }
   ],
   "source": [
    "5 7 3\n",
    "0 2 4 4\n",
    "1 1 2 5\n",
    "4 0 6 2"
   ]
  }
 ],
 "metadata": {
  "kernelspec": {
   "display_name": "Python 3",
   "language": "python",
   "name": "python3"
  },
  "language_info": {
   "codemirror_mode": {
    "name": "ipython",
    "version": 3
   },
   "file_extension": ".py",
   "mimetype": "text/x-python",
   "name": "python",
   "nbconvert_exporter": "python",
   "pygments_lexer": "ipython3",
   "version": "3.6.8"
  }
 },
 "nbformat": 4,
 "nbformat_minor": 2
}

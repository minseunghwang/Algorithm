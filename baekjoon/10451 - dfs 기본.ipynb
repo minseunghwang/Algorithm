{
 "cells": [
  {
   "cell_type": "code",
   "execution_count": null,
   "metadata": {},
   "outputs": [],
   "source": [
    "# input\n",
    "\n",
    "2\n",
    "8\n",
    "3 2 7 8 1 4 5 6\n",
    "10\n",
    "2 1 3 4 5 6 7 9 10 8"
   ]
  },
  {
   "cell_type": "code",
   "execution_count": 26,
   "metadata": {},
   "outputs": [
    {
     "name": "stdout",
     "output_type": "stream",
     "text": [
      "2\n",
      "8\n",
      "3 2 7 8 1 4 5 6\n",
      "3\n",
      "10\n",
      "2 1 3 4 5 6 7 9 10 8\n",
      "7\n"
     ]
    }
   ],
   "source": [
    "import sys\n",
    "sys.setrecursionlimit(2000) #최대 재귀를 늘려줘야 런타임 에러를 피할 수 있다\n",
    "\n",
    "def dfs(x):\n",
    "    visit[x] = 1\n",
    "    number = a[x]-1\n",
    "    if visit[number] == 0:\n",
    "        dfs(number)\n",
    "\n",
    "for _ in range(int(input())):\n",
    "    n = int(input())\n",
    "    a=list(map(int,input().split()))\n",
    "    visit=[0] * n\n",
    "    cnt = 0\n",
    "\n",
    "    for i in range(n):\n",
    "        if visit[i] == 0:\n",
    "            dfs(i)\n",
    "            cnt += 1\n",
    "    print(cnt)"
   ]
  },
  {
   "cell_type": "code",
   "execution_count": null,
   "metadata": {},
   "outputs": [],
   "source": [
    "q = 3 // \n",
    "[0,0,1,0,1,0,1,0]\n",
    "\n",
    "\n",
    "1 2 3 4 5 6 7 8\n",
    "3 2 7 8 1 4 5 6 \n",
    "\n",
    "3 - 7 - 5 - 1\n"
   ]
  }
 ],
 "metadata": {
  "kernelspec": {
   "display_name": "Python 3",
   "language": "python",
   "name": "python3"
  },
  "language_info": {
   "codemirror_mode": {
    "name": "ipython",
    "version": 3
   },
   "file_extension": ".py",
   "mimetype": "text/x-python",
   "name": "python",
   "nbconvert_exporter": "python",
   "pygments_lexer": "ipython3",
   "version": "3.6.8"
  }
 },
 "nbformat": 4,
 "nbformat_minor": 2
}

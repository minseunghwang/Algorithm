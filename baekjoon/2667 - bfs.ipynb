{
 "cells": [
  {
   "cell_type": "code",
   "execution_count": null,
   "metadata": {},
   "outputs": [],
   "source": [
    "7\n",
    "0110100\n",
    "0110101\n",
    "1110101\n",
    "0000111\n",
    "0100000\n",
    "0111110\n",
    "0111000"
   ]
  },
  {
   "cell_type": "code",
   "execution_count": 25,
   "metadata": {},
   "outputs": [
    {
     "name": "stdout",
     "output_type": "stream",
     "text": [
      "3\n",
      "7\n",
      "8\n",
      "9\n"
     ]
    }
   ],
   "source": [
    "from collections import deque\n",
    "N = int(input())\n",
    "\n",
    "area = []\n",
    "for i in range(N):\n",
    "    area.append(input())        \n",
    "        \n",
    "dx=[0,0,-1,1]\n",
    "dy=[-1,1,0,0]\n",
    "visit=[[0 for _ in range(N)] for _ in range(N)]\n",
    "\n",
    "def bfs(a,b):\n",
    "    q = deque()\n",
    "    q.append([a,b])\n",
    "    visit[a][b] = 1\n",
    "\n",
    "    cnt = 1\n",
    "    while q:\n",
    "        p=q.popleft()\n",
    "        for i in range(4):\n",
    "            mr = p[0]+dx[i]\n",
    "            ml = p[1]+dy[i]\n",
    "            if 0 <= mr < N and 0 <= ml < N:\n",
    "                if area[mr][ml] == '1' and visit[mr][ml] == 0:\n",
    "                    cnt += 1\n",
    "                    visit[mr][ml] = 1\n",
    "                    q.append([mr,ml])\n",
    "    return cnt\n",
    "\n",
    "    \n",
    "answer = []    \n",
    "for i in range(N):\n",
    "    for j in range(N):\n",
    "        if area[i][j] == '1' and visit[i][j] != 1:\n",
    "            answer.append(bfs(i,j))\n",
    "            \n",
    "print(len(answer))\n",
    "for i in sorted(answer):\n",
    "    print(i)"
   ]
  }
 ],
 "metadata": {
  "kernelspec": {
   "display_name": "Python 3",
   "language": "python",
   "name": "python3"
  },
  "language_info": {
   "codemirror_mode": {
    "name": "ipython",
    "version": 3
   },
   "file_extension": ".py",
   "mimetype": "text/x-python",
   "name": "python",
   "nbconvert_exporter": "python",
   "pygments_lexer": "ipython3",
   "version": "3.6.8"
  }
 },
 "nbformat": 4,
 "nbformat_minor": 2
}

{
 "cells": [
  {
   "cell_type": "code",
   "execution_count": null,
   "metadata": {},
   "outputs": [],
   "source": [
    "5\n",
    "6 8 2 6 2\n",
    "3 2 3 4 6\n",
    "6 7 3 3 2\n",
    "7 2 5 3 6\n",
    "8 9 5 2 7"
   ]
  },
  {
   "cell_type": "code",
   "execution_count": 8,
   "metadata": {},
   "outputs": [
    {
     "name": "stdout",
     "output_type": "stream",
     "text": [
      "5\n",
      "6 8 2 6 2\n",
      "3 2 3 4 6\n",
      "6 7 3 3 2\n",
      "7 2 5 3 6\n",
      "8 9 5 2 7\n"
     ]
    }
   ],
   "source": [
    "n = int(input())\n",
    "matrix = []\n",
    "mx = 0\n",
    "mn = 100\n",
    "for i in range(n):\n",
    "    matrix.append(list(map(int,input().split())))\n",
    "    if max(matrix[i]) > mx:\n",
    "        mx = max(matrix[i])\n",
    "    if min(matrix[i]) < mn:\n",
    "        mn = min(matrix[i]) "
   ]
  },
  {
   "cell_type": "code",
   "execution_count": 41,
   "metadata": {},
   "outputs": [
    {
     "name": "stdout",
     "output_type": "stream",
     "text": [
      "4\n",
      "2 2 2 2\n",
      "2 2 2 2\n",
      "3 2 2 3\n",
      "2 2 2 2\n",
      "2\n"
     ]
    }
   ],
   "source": [
    "n = int(input())\n",
    "matrix = []\n",
    "mx = 0\n",
    "mn = 100\n",
    "for i in range(n):\n",
    "    matrix.append(list(map(int,input().split())))\n",
    "    if max(matrix[i]) > mx:\n",
    "        mx = max(matrix[i])\n",
    "    if min(matrix[i]) < mn:\n",
    "        mn = min(matrix[i]) \n",
    "\n",
    "dx = [0,0,-1,1]\n",
    "dy = [1,-1,0,0]\n",
    "\n",
    "def bfs(i,j):\n",
    "    visit[i][j] = 1\n",
    "    q=[]\n",
    "    q.append([i,j])\n",
    "    while q:\n",
    "        a,b=q.pop(0)\n",
    "        for p in range(4):\n",
    "            x = dx[p] + a\n",
    "            y = dy[p] + b\n",
    "            if 0 <= x < n and 0 <= y < n and visit[x][y] == 0 and area[x][y] == 1:     \n",
    "                visit[x][y] = 1    \n",
    "                q.append([x,y])\n",
    "\n",
    "answer = [1]\n",
    "for i in range(mn,mx):\n",
    "    visit = [[0]*n for _ in range(n)]\n",
    "    area = []\n",
    "    for mat in matrix:\n",
    "        temp = []\n",
    "        for p in mat:\n",
    "            if p <= i:\n",
    "                temp.append(0)\n",
    "            else:\n",
    "                temp.append(1)\n",
    "        area.append(temp)\n",
    "    \n",
    "    cnt = 0\n",
    "\n",
    "    for j in range(n):\n",
    "        for k in range(n):\n",
    "            if visit[j][k] == 0 and area[j][k] == 1:\n",
    "                bfs(j,k)\n",
    "                cnt += 1\n",
    "    answer.append(cnt)\n",
    "print(max(answer))"
   ]
  },
  {
   "cell_type": "code",
   "execution_count": 23,
   "metadata": {},
   "outputs": [
    {
     "data": {
      "text/plain": [
       "[[0, 0, 0, 0, 0],\n",
       " [0, 0, 0, 0, 0],\n",
       " [0, 0, 0, 0, 0],\n",
       " [0, 0, 0, 0, 0],\n",
       " [0, 1, 0, 0, 0]]"
      ]
     },
     "execution_count": 23,
     "metadata": {},
     "output_type": "execute_result"
    }
   ],
   "source": [
    "5\n",
    "6 8 2 6 2\n",
    "3 2 3 4 6\n",
    "6 7 3 3 2\n",
    "7 2 5 3 6\n",
    "8 9 5 2 7"
   ]
  },
  {
   "cell_type": "code",
   "execution_count": 44,
   "metadata": {},
   "outputs": [
    {
     "name": "stdout",
     "output_type": "stream",
     "text": [
      "4\n",
      "3\n",
      "2\n",
      "1\n",
      "0\n"
     ]
    }
   ],
   "source": [
    "t=[1,2,3,4,5,6,7,8]\n",
    "for i in reversed(range(0,5)):\n",
    "    print(i)"
   ]
  }
 ],
 "metadata": {
  "kernelspec": {
   "display_name": "Python 3",
   "language": "python",
   "name": "python3"
  },
  "language_info": {
   "codemirror_mode": {
    "name": "ipython",
    "version": 3
   },
   "file_extension": ".py",
   "mimetype": "text/x-python",
   "name": "python",
   "nbconvert_exporter": "python",
   "pygments_lexer": "ipython3",
   "version": "3.6.8"
  }
 },
 "nbformat": 4,
 "nbformat_minor": 2
}

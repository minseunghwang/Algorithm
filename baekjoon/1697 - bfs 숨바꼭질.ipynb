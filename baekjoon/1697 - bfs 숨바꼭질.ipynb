{
 "cells": [
  {
   "cell_type": "code",
   "execution_count": 6,
   "metadata": {},
   "outputs": [
    {
     "name": "stdout",
     "output_type": "stream",
     "text": [
      "100 100\n",
      "0\n",
      "[0, 0, 0, 0, 0, 0, 0, 0, 0, 0, 0, 0, 0, 0, 0, 0, 0, 0, 0, 0, 0, 0, 0, 0, 0, 0, 0, 0, 0, 0]\n"
     ]
    }
   ],
   "source": [
    "from collections import deque\n",
    "import sys\n",
    "n,k = map(int,input().split())\n",
    "\n",
    "def bfs(n):\n",
    "    visit[n] = 0\n",
    "    q=deque()\n",
    "    q.append(n)\n",
    "    while q:\n",
    "        p=q.popleft()\n",
    "        if p==k:\n",
    "            return visit[p]       \n",
    "        if p-1 >= 0 and visit[p-1] == 0:\n",
    "            q.append(p-1)\n",
    "            visit[p-1] = visit[p] + 1\n",
    "        if p+1 <= 100000 and visit[p+1] == 0:\n",
    "            q.append(p+1)\n",
    "            visit[p+1] = visit[p] + 1\n",
    "        if p*2 <= 100000 and visit[p*2] == 0:\n",
    "            q.append(p*2)\n",
    "            visit[p*2] = visit[p] + 1\n",
    "\n",
    "    \n",
    "        \n",
    "visit = [0] * 100001\n",
    "\n",
    "print(bfs(n))\n",
    "print(visit[:30])"
   ]
  }
 ],
 "metadata": {
  "kernelspec": {
   "display_name": "Python 3",
   "language": "python",
   "name": "python3"
  },
  "language_info": {
   "codemirror_mode": {
    "name": "ipython",
    "version": 3
   },
   "file_extension": ".py",
   "mimetype": "text/x-python",
   "name": "python",
   "nbconvert_exporter": "python",
   "pygments_lexer": "ipython3",
   "version": "3.6.8"
  }
 },
 "nbformat": 4,
 "nbformat_minor": 2
}

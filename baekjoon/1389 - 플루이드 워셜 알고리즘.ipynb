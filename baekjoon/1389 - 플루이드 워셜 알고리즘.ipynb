{
 "cells": [
  {
   "cell_type": "markdown",
   "metadata": {},
   "source": [
    "# 플루이드 워셜 알고리즘"
   ]
  },
  {
   "cell_type": "code",
   "execution_count": null,
   "metadata": {},
   "outputs": [],
   "source": [
    "5 5\n",
    "1 3\n",
    "1 4\n",
    "4 5\n",
    "4 3\n",
    "3 2"
   ]
  },
  {
   "cell_type": "code",
   "execution_count": 28,
   "metadata": {},
   "outputs": [
    {
     "name": "stdout",
     "output_type": "stream",
     "text": [
      "5 5\n",
      "1 3\n",
      "1 4\n",
      "4 5\n",
      "4 3\n",
      "3 2\n",
      "3\n",
      "[[0, 2, 1, 1, 2], [2, 0, 1, 2, 3], [1, 1, 0, 1, 2], [1, 2, 1, 0, 1], [2, 3, 2, 1, 0]]\n"
     ]
    }
   ],
   "source": [
    "peo,n = map(int,input().split())\n",
    "relationship = [[99]*peo for _ in range(peo)]\n",
    "\n",
    "for i in range(n):\n",
    "    a,b = map(int,input().split())\n",
    "    relationship[a-1][b-1] = 1\n",
    "    relationship[b-1][a-1] = 1\n",
    "\n",
    "for k in range(peo):\n",
    "    for i in range(peo):\n",
    "        for j in range(peo):\n",
    "            if i==j:\n",
    "                relationship[i][j] = 0 # 자기자신과는 관계 불가\n",
    "            else:\n",
    "                relationship[i][j] = min(relationship[i][j], relationship[i][k]+relationship[k][j])\n",
    "a=[]\n",
    "for row in relationship:\n",
    "    a.append(sum(row))\n",
    "print(a.index(min(a))+1)\n",
    "print(relationship)"
   ]
  }
 ],
 "metadata": {
  "kernelspec": {
   "display_name": "Python 3",
   "language": "python",
   "name": "python3"
  },
  "language_info": {
   "codemirror_mode": {
    "name": "ipython",
    "version": 3
   },
   "file_extension": ".py",
   "mimetype": "text/x-python",
   "name": "python",
   "nbconvert_exporter": "python",
   "pygments_lexer": "ipython3",
   "version": "3.6.8"
  }
 },
 "nbformat": 4,
 "nbformat_minor": 2
}

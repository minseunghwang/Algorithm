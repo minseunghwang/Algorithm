{
 "cells": [
  {
   "cell_type": "code",
   "execution_count": null,
   "metadata": {},
   "outputs": [],
   "source": [
    "6 4\n",
    "0 0 0 0 0 0\n",
    "0 0 0 0 0 0\n",
    "0 0 0 0 0 0\n",
    "0 0 0 0 0 1\n",
    "\n",
    "6 4\n",
    "0 -1 0 0 0 0\n",
    "-1 0 0 0 0 0\n",
    "0 0 0 0 0 0\n",
    "0 0 0 0 0 1\n",
    "\n",
    "6 4\n",
    "1 -1 0 0 0 0\n",
    "0 -1 0 0 0 0\n",
    "0 0 0 0 -1 0\n",
    "0 0 0 0 -1 1"
   ]
  },
  {
   "cell_type": "code",
   "execution_count": 147,
   "metadata": {},
   "outputs": [
    {
     "name": "stdout",
     "output_type": "stream",
     "text": [
      "6 4\n",
      "0 0 0 0 0 0\n",
      "0 0 0 0 0 0\n",
      "0 0 0 0 0 0\n",
      "0 0 0 0 0 1\n"
     ]
    }
   ],
   "source": [
    "from collections import deque\n",
    "import copy\n",
    "import sys\n",
    "\n",
    "m,n = map(int,input().split())\n",
    "arr = []\n",
    "queue = deque() # 1이 있는 list\n",
    "for i in range(n):\n",
    "    arr.append(list(map(int,input().split())))\n",
    "    for j in range(m):\n",
    "        if arr[i][j] == 1:\n",
    "            queue.append([i,j])"
   ]
  },
  {
   "cell_type": "code",
   "execution_count": 150,
   "metadata": {},
   "outputs": [
    {
     "name": "stdout",
     "output_type": "stream",
     "text": [
      "deque([])\n",
      "-1\n"
     ]
    }
   ],
   "source": [
    "dx = [0,0,-1,1]\n",
    "dy = [-1,1,0,0]\n",
    "\n",
    "def bfs(queue):\n",
    "    cnt = -1\n",
    "    while queue:\n",
    "        ql = len(queue)\n",
    "        for i in range(ql):\n",
    "            q = queue.popleft()\n",
    "            x,y = q[0],q[1]\n",
    "            for i in range(4):\n",
    "                nx = dx[i] + x\n",
    "                ny = dy[i] + y\n",
    "                if 0 <= nx < n and 0 <= ny < m and arr[nx][ny] == 0:\n",
    "                    arr[nx][ny] = 1\n",
    "                    queue.append([nx,ny])\n",
    "        cnt += 1\n",
    "             \n",
    "    for i in arr:\n",
    "        if 0 in i:\n",
    "             return -1\n",
    "    return cnt\n",
    "\n",
    "print(queue)\n",
    "print(bfs(queue))"
   ]
  },
  {
   "cell_type": "code",
   "execution_count": 142,
   "metadata": {
    "scrolled": true
   },
   "outputs": [
    {
     "data": {
      "text/plain": [
       "[[1, 1, 1, 1, 1, 1],\n",
       " [1, 1, 1, 1, 1, 1],\n",
       " [1, 1, 1, 1, 1, 1],\n",
       " [1, 1, 1, 1, 1, 1]]"
      ]
     },
     "execution_count": 142,
     "metadata": {},
     "output_type": "execute_result"
    }
   ],
   "source": [
    "arr"
   ]
  },
  {
   "cell_type": "code",
   "execution_count": 57,
   "metadata": {},
   "outputs": [
    {
     "name": "stdout",
     "output_type": "stream",
     "text": [
      "[1, 2, 3, 4, 5] [1, 2, 3, 4, 5, 6]\n"
     ]
    }
   ],
   "source": [
    "import copy\n",
    "ms1 = [1,2,3,4,5]\n",
    "ms2 = copy.copy(ms1)\n",
    "\n",
    "ms2.append(6)\n",
    "print(ms1,ms2)"
   ]
  }
 ],
 "metadata": {
  "kernelspec": {
   "display_name": "Python 3",
   "language": "python",
   "name": "python3"
  },
  "language_info": {
   "codemirror_mode": {
    "name": "ipython",
    "version": 3
   },
   "file_extension": ".py",
   "mimetype": "text/x-python",
   "name": "python",
   "nbconvert_exporter": "python",
   "pygments_lexer": "ipython3",
   "version": "3.6.8"
  }
 },
 "nbformat": 4,
 "nbformat_minor": 2
}

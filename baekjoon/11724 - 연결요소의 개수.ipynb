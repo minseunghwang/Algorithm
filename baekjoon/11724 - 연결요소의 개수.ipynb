{
 "cells": [
  {
   "cell_type": "code",
   "execution_count": null,
   "metadata": {},
   "outputs": [],
   "source": [
    "6 5\n",
    "1 2\n",
    "2 5\n",
    "5 1\n",
    "3 4\n",
    "4 6\n",
    "\n",
    "6 8\n",
    "1 2\n",
    "2 5\n",
    "5 1\n",
    "3 4\n",
    "4 6\n",
    "5 4\n",
    "2 4\n",
    "2 3"
   ]
  },
  {
   "cell_type": "code",
   "execution_count": 67,
   "metadata": {},
   "outputs": [
    {
     "name": "stdout",
     "output_type": "stream",
     "text": [
      "6 5\n",
      "1 2\n",
      "2 5\n",
      "5 1\n",
      "3 4\n",
      "4 6\n"
     ]
    }
   ],
   "source": [
    "n,m = map(int,input().split())\n",
    "q=[]\n",
    "for i in range(m):\n",
    "    a,b = map(int,input().split())\n",
    "    q.append([a,b])"
   ]
  },
  {
   "cell_type": "code",
   "execution_count": 69,
   "metadata": {},
   "outputs": [
    {
     "name": "stdout",
     "output_type": "stream",
     "text": [
      "2\n"
     ]
    }
   ],
   "source": [
    "visit = [0] * (n+1)\n",
    "matrix = [[0] * (n+1) for _ in range(n+1)]\n",
    "for i,j in q:\n",
    "    matrix[i][j] = 1\n",
    "    matrix[j][i] = 1\n",
    "\n",
    "def dfs(x):\n",
    "    visit[x] = 1\n",
    "    p=[x]\n",
    "    while p:\n",
    "        h=p.pop(0)\n",
    "        for i in range(len(matrix[h])):\n",
    "            if matrix[h][i] == 1 and visit[i] == 0:\n",
    "                visit[i] = 1\n",
    "                p.append(i)\n",
    "            \n",
    "cnt = 0\n",
    "for i in range(1,n+1):\n",
    "    if visit[i] == 0:\n",
    "        dfs(i)\n",
    "        cnt += 1\n",
    "print(cnt)"
   ]
  },
  {
   "cell_type": "code",
   "execution_count": 64,
   "metadata": {},
   "outputs": [
    {
     "data": {
      "text/plain": [
       "[[0, 0, 0, 0, 0, 0, 0],\n",
       " [0, 0, 1, 0, 0, 1, 0],\n",
       " [0, 1, 0, 1, 1, 1, 0],\n",
       " [0, 0, 1, 0, 1, 0, 0],\n",
       " [0, 0, 1, 1, 0, 1, 1],\n",
       " [0, 1, 1, 0, 1, 0, 0],\n",
       " [0, 0, 0, 0, 1, 0, 0]]"
      ]
     },
     "execution_count": 64,
     "metadata": {},
     "output_type": "execute_result"
    }
   ],
   "source": [
    "matrix"
   ]
  },
  {
   "cell_type": "code",
   "execution_count": 29,
   "metadata": {},
   "outputs": [
    {
     "name": "stdout",
     "output_type": "stream",
     "text": [
      "visit [0, 1, 0, 0, 0, 0, 0]\n",
      "i 1 2\n",
      "visit [0, 1, 1, 0, 0, 0, 0]\n",
      "i 2 3\n",
      "visit [0, 1, 1, 1, 0, 0, 0]\n",
      "i 3 4\n",
      "visit [0, 1, 1, 1, 1, 0, 0]\n",
      "i 4 6\n",
      "visit [0, 1, 1, 1, 1, 0, 1]\n",
      "i 2 5\n",
      "cnt 1\n"
     ]
    }
   ],
   "source": [
    "# 최종답\n",
    "import sys\n",
    "sys.setrecursionlimit(10000)\n",
    "\n",
    "n,m = map(int,sys.stdin.readline().split())\n",
    "q=[]\n",
    "for i in range(m):\n",
    "    a,b = map(int,sys.stdin.readline().split())\n",
    "    q.append([a,b])\n",
    "\n",
    "visit = [0] * (n+1)\n",
    "matrix = [[0] * (n+1) for _ in range(n+1)]\n",
    "for i,j in q:\n",
    "    matrix[i][j] = 1\n",
    "    matrix[j][i] = 1\n",
    "\n",
    "def dfs(x):\n",
    "    visit[x] = 1\n",
    "    p=[x]\n",
    "    while p:\n",
    "        h=p.pop(0)\n",
    "        for i in range(len(matrix[h])):\n",
    "            if matrix[h][i] == 1 and visit[i] == 0:\n",
    "                visit[i] = 1\n",
    "                p.append(i)\n",
    "            \n",
    "cnt = 0\n",
    "for i in range(1,n+1):\n",
    "    if visit[i] == 0:\n",
    "        dfs(i)\n",
    "        cnt += 1\n",
    "print(cnt)"
   ]
  },
  {
   "cell_type": "code",
   "execution_count": 78,
   "metadata": {},
   "outputs": [
    {
     "data": {
      "text/plain": [
       "[[], [], [], [], [], [], []]"
      ]
     },
     "execution_count": 78,
     "metadata": {},
     "output_type": "execute_result"
    }
   ],
   "source": [
    "b=[[] for _ in range(n+1)]\n",
    "b"
   ]
  },
  {
   "cell_type": "code",
   "execution_count": 72,
   "metadata": {},
   "outputs": [
    {
     "name": "stdout",
     "output_type": "stream",
     "text": [
      "1 2\n",
      "2 5\n",
      "5 1\n",
      "3 4\n",
      "4 6\n",
      "[[], [2, 5], [1, 5], [4], [3, 6], [2, 1], [4]]\n"
     ]
    }
   ],
   "source": [
    "# 배워야 할 다른풀이\n",
    "\n",
    "a = [[]* (n+1) for _ in range(n+1)]\n",
    "for i in range(m):\n",
    "    x,y = map(int,input().split())\n",
    "    a[x].append(y)\n",
    "    a[y].append(x)\n",
    "print(a)    "
   ]
  },
  {
   "cell_type": "code",
   "execution_count": 76,
   "metadata": {},
   "outputs": [
    {
     "name": "stdout",
     "output_type": "stream",
     "text": [
      "2\n"
     ]
    }
   ],
   "source": [
    "visit = [0] * (n+1)\n",
    "def _11724(z):\n",
    "    visit[z] = 1\n",
    "    for i in a[z]:\n",
    "        if visit[i] == 0:\n",
    "            _11724(i)\n",
    "        \n",
    "\n",
    "cnt = 0\n",
    "for i in range(1,n+1):    \n",
    "    if visit[i] == 0:\n",
    "        _11724(i)\n",
    "        cnt += 1\n",
    "print(cnt)"
   ]
  }
 ],
 "metadata": {
  "kernelspec": {
   "display_name": "Python 3",
   "language": "python",
   "name": "python3"
  },
  "language_info": {
   "codemirror_mode": {
    "name": "ipython",
    "version": 3
   },
   "file_extension": ".py",
   "mimetype": "text/x-python",
   "name": "python",
   "nbconvert_exporter": "python",
   "pygments_lexer": "ipython3",
   "version": "3.6.8"
  }
 },
 "nbformat": 4,
 "nbformat_minor": 2
}
